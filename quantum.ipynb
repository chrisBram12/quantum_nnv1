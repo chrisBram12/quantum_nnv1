{
 "cells": [
  {
   "cell_type": "code",
   "execution_count": 5,
   "id": "1945afb0-877b-486f-b3fe-89708f11cf42",
   "metadata": {},
   "outputs": [
    {
     "name": "stdout",
     "output_type": "stream",
     "text": [
      "[*********************100%***********************]  1 of 1 completed\n"
     ]
    },
    {
     "name": "stderr",
     "output_type": "stream",
     "text": [
      "/var/folders/qz/cgmh9p817l9gz6hgwnfltj540000gn/T/ipykernel_78429/2041340648.py:48: DeprecationWarning: The 'label' keyword argument of 'Pauli' is deprecated as of Qiskit Terra 0.17 and will be removed in version 0.23 or later. Pass the label positionally instead, such as 'Pauli(\"XYZ\")'.\n",
      "  observable = PauliOp(Pauli(label=\"Z\" * len(datum)))\n",
      "/var/folders/qz/cgmh9p817l9gz6hgwnfltj540000gn/T/ipykernel_78429/2041340648.py:48: DeprecationWarning: The class ``qiskit.opflow.primitive_ops.pauli_op.PauliOp`` is deprecated as of qiskit-terra 0.24.0. It will be removed no earlier than 3 months after the release date. For code migration guidelines, visit https://qisk.it/opflow_migration.\n",
      "  observable = PauliOp(Pauli(label=\"Z\" * len(datum)))\n",
      "/var/folders/qz/cgmh9p817l9gz6hgwnfltj540000gn/T/ipykernel_78429/2041340648.py:49: DeprecationWarning: The class ``qiskit.opflow.state_fns.circuit_state_fn.CircuitStateFn`` is deprecated as of qiskit-terra 0.24.0. It will be removed no earlier than 3 months after the release date. For code migration guidelines, visit https://qisk.it/opflow_migration.\n",
      "  operator = CircuitStateFn(qc).adjoint().compose(observable).compose(CircuitStateFn(qc))\n",
      "/var/folders/qz/cgmh9p817l9gz6hgwnfltj540000gn/T/ipykernel_78429/2041340648.py:50: DeprecationWarning: The class ``qiskit.opflow.expectations.pauli_expectation.PauliExpectation`` is deprecated as of qiskit-terra 0.24.0. It will be removed no earlier than 3 months after the release date. For code migration guidelines, visit https://qisk.it/opflow_migration.\n",
      "  expectation = PauliExpectation().convert(operator).eval().real\n"
     ]
    },
    {
     "data": {
      "image/png": "[encoded data removed]",
      "text/plain": [
       "<Figure size 640x480 with 1 Axes>"
      ]
     },
     "metadata": {},
     "output_type": "display_data"
    }
   ],
   "source": [
    "import yfinance as yf\n",
    "import numpy as np\n",
    "from qiskit import BasicAer\n",
    "from qiskit.utils import algorithm_globals\n",
    "from qiskit.circuit.library import ZZFeatureMap, TwoLocal\n",
    "from qiskit.algorithms.optimizers import SPSA\n",
    "from qiskit.opflow import PauliExpectation, CircuitStateFn, PauliOp, Z\n",
    "from qiskit.quantum_info import Pauli\n",
    "import matplotlib.pyplot as plt\n",
    "from qiskit import QuantumCircuit\n",
    "\n",
    "# Define quantum helper functions and classes\n",
    "def parity(bitstring):\n",
    "    hamming_weight = sum(int(k) for k in list(bitstring))\n",
    "    return (hamming_weight + 1) % 2\n",
    "\n",
    "def label_probability(results):\n",
    "    shots = sum(results.values())\n",
    "    probabilities = {0: 0, 1: 0}\n",
    "    for bitstring, counts in results.items():\n",
    "        label = parity(bitstring)\n",
    "        probabilities[label] += counts / shots\n",
    "    return probabilities\n",
    "\n",
    "class OptimizerLog:\n",
    "    def __init__(self):\n",
    "        self.evaluations = []\n",
    "        self.parameters = []\n",
    "        self.costs = []\n",
    "\n",
    "    def update(self, evaluation, parameter, cost, _stepsize, _accept):\n",
    "        self.evaluations.append(evaluation)\n",
    "        self.parameters.append(parameter)\n",
    "        self.costs.append(cost)\n",
    "\n",
    "def circuit_instance(data, params, feature_map, var_form):\n",
    "    qc = QuantumCircuit(len(data))\n",
    "    fm_bound = feature_map.bind_parameters({feature_map.parameters[i]: data[i] for i in range(len(data))})\n",
    "    qc.append(fm_bound, range(len(data)))\n",
    "    vf_bound = var_form.bind_parameters({var_form.parameters[i]: params[i] for i in range(len(params))})\n",
    "    qc.append(vf_bound, range(len(data)))\n",
    "    return qc\n",
    "\n",
    "def cost_function(params, data, labels, feature_map, var_form):\n",
    "    total_loss = 0\n",
    "    for i, datum in enumerate(data):\n",
    "        qc = circuit_instance(datum, params, feature_map, var_form)\n",
    "        observable = PauliOp(Pauli(label=\"Z\" * len(datum)))\n",
    "        operator = CircuitStateFn(qc).adjoint().compose(observable).compose(CircuitStateFn(qc))\n",
    "        expectation = PauliExpectation().convert(operator).eval().real\n",
    "        total_loss += (expectation - labels[i]) ** 2\n",
    "    return total_loss / len(data)\n",
    "\n",
    "# Fetch and preprocess stock data\n",
    "data = yf.download(\"AAPL\", start=\"2021-09-01\", end=\"2023-09-11\")\n",
    "data['Returns'] = data['Close'].pct_change()\n",
    "data['Label'] = np.where(data['Returns'] > 0, 1, 0)\n",
    "data = data.dropna()\n",
    "\n",
    "normalized_close = (data['Close'].values - min(data['Close'].values)) / (max(data['Close'].values) - min(data['Close'].values)) * np.pi\n",
    "normalized_returns = (data['Returns'].values - min(data['Returns'].values)) / (max(data['Returns'].values) - min(data['Returns'].values)) * np.pi\n",
    "features_2D = np.column_stack((normalized_close, normalized_returns))\n",
    "\n",
    "training_size = int(0.7 * len(data))\n",
    "train_data = features_2D[:training_size]\n",
    "train_labels = data['Label'][:training_size].values\n",
    "test_data = features_2D[training_size:]\n",
    "test_labels = data['Label'][training_size:].values\n",
    "\n",
    "# Quantum setup\n",
    "algorithm_globals.random_seed = 3142\n",
    "np.random.seed(algorithm_globals.random_seed)\n",
    "FEATURE_MAP = ZZFeatureMap(feature_dimension=2, reps=2)\n",
    "VAR_FORM = TwoLocal(2, ['ry', 'rz'], 'cz', reps=2)\n",
    "\n",
    "def wrapped_cost_function(params):\n",
    "    return cost_function(params, train_data, train_labels, FEATURE_MAP, VAR_FORM)\n",
    "\n",
    "log = OptimizerLog()\n",
    "params = [0.01] * len(VAR_FORM.parameters)\n",
    "objective = lambda params: wrapped_cost_function(params)\n",
    "optimizer = SPSA(maxiter=100, callback=log.update)\n",
    "result = optimizer.minimize(objective, x0=params) # Corrected this line\n",
    "\n",
    "plt.figure()\n",
    "plt.plot(log.evaluations, log.costs)\n",
    "plt.xlabel('Steps')\n",
    "plt.ylabel('Cost')\n",
    "plt.show()\n"
   ]
  },
  {
   "cell_type": "code",
   "execution_count": 7,
   "id": "5f3aa42e-45e6-4107-a83b-e56a9a134933",
   "metadata": {},
   "outputs": [],
   "source": [
    "plt.show()"
   ]
  },
  {
   "cell_type": "code",
   "execution_count": 9,
   "id": "89f94336-1a81-478f-a35d-1719ec73e95f",
   "metadata": {},
   "outputs": [
    {
     "name": "stderr",
     "output_type": "stream",
     "text": [
      "/var/folders/qz/cgmh9p817l9gz6hgwnfltj540000gn/T/ipykernel_78429/1097538811.py:15: DeprecationWarning: Using a qobj for run() is deprecated as of qiskit-aer 0.9.0 and will be removed no sooner than 3 months from that release date. Transpiled circuits should now be passed directly using `backend.run(circuits, **run_options).\n",
      "  result = backend.run(qobj).result()\n"
     ]
    },
    {
     "name": "stdout",
     "output_type": "stream",
     "text": [
      "[1, 1, 1, 1, 0, 1, 0, 1, 1, 1, 1, 1, 0, 1, 0, 1, 1, 0, 1, 1, 1, 1, 1, 1, 0, 1, 1, 1, 1, 1, 1, 1, 1, 1, 1, 0, 1, 1, 0, 1, 1, 1, 1, 1, 1, 1, 1, 0, 1, 1, 1, 1, 1, 1, 1, 1, 1, 1, 1, 1, 1, 1, 1, 1, 1, 1, 1, 1, 1, 1, 1, 1, 1, 1, 1, 1, 1, 1, 1, 1, 1, 1, 1, 1, 1, 1, 1, 1, 1, 1, 1, 0, 1, 0, 0, 0, 0, 1, 0, 0, 0, 0, 0, 0, 0, 0, 0, 0, 0, 0, 0, 0, 0, 0, 0, 0, 0, 0, 0, 0, 0, 0, 0, 0, 0, 0, 0, 0, 1, 0, 1, 1, 1, 1, 1, 1, 1, 0, 1, 1, 1, 1, 0, 1, 1, 0, 0, 0, 0, 0, 1, 0, 1]\n"
     ]
    }
   ],
   "source": [
    "from qiskit import Aer, transpile, assemble\n",
    "from qiskit.visualization import plot_histogram\n",
    "\n",
    "# Initialize the simulator backend\n",
    "backend = Aer.get_backend('qasm_simulator')\n",
    "\n",
    "def quantum_prediction(data_point, optimized_params):\n",
    "    # Construct the quantum circuit\n",
    "    qc = circuit_instance(data_point, optimized_params, FEATURE_MAP, VAR_FORM)\n",
    "    qc.measure_all() # Add measurement to all qubits\n",
    "\n",
    "    # Execute the circuit\n",
    "    tqc = transpile(qc, backend)\n",
    "    qobj = assemble(tqc, shots=1024)\n",
    "    result = backend.run(qobj).result()\n",
    "\n",
    "    # Get the measurement results\n",
    "    counts = result.get_counts()\n",
    "\n",
    "    # Translate quantum results to predictions\n",
    "    probs = label_probability(counts)\n",
    "    \n",
    "    # Decide the label: 1 if probability for label '1' is higher, else 0.\n",
    "    prediction = 1 if probs[1] > 0.5 else 0\n",
    "    \n",
    "    return prediction\n",
    "\n",
    "# Predict the labels for the test data\n",
    "predicted_labels = [quantum_prediction(data_point, result.x) for data_point in test_data]\n",
    "\n",
    "# Display the results\n",
    "print(predicted_labels)\n"
   ]
  },
  {
   "cell_type": "code",
   "execution_count": null,
   "id": "9d26a2a2-f121-49a9-a011-fb6e8c6f1815",
   "metadata": {},
   "outputs": [],
   "source": []
  }
 ],
 "metadata": {
  "kernelspec": {
   "display_name": "Python 3 (ipykernel)",
   "language": "python",
   "name": "python3"
  },
  "language_info": {
   "codemirror_mode": {
    "name": "ipython",
    "version": 3
   },
   "file_extension": ".py",
   "mimetype": "text/x-python",
   "name": "python",
   "nbconvert_exporter": "python",
   "pygments_lexer": "ipython3",
   "version": "3.10.9"
  }
 },
 "nbformat": 4,
 "nbformat_minor": 5
}
